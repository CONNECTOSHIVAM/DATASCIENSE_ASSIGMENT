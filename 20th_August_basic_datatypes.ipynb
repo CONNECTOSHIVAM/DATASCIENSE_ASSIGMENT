{
 "cells": [
  {
   "cell_type": "markdown",
   "metadata": {},
   "source": [
    "TOPIC: String Based Assignment Problem\n"
   ]
  },
  {
   "cell_type": "code",
   "execution_count": 1,
   "metadata": {},
   "outputs": [
    {
     "name": "stdout",
     "output_type": "stream",
     "text": [
      "repyH\n"
     ]
    }
   ],
   "source": [
    "#Q1. Write a program to reverse a string.\n",
    "\n",
    "#we take input \n",
    "word = \"Hyper\"\n",
    "#we reverse the word form slicing.\n",
    "print(word[::-1])"
   ]
  },
  {
   "cell_type": "code",
   "execution_count": 2,
   "metadata": {},
   "outputs": [
    {
     "name": "stdout",
     "output_type": "stream",
     "text": [
      "Your entered word-->   is plaindrome!\n"
     ]
    }
   ],
   "source": [
    "#Q2. Check if a string is a palindrome.\n",
    "\n",
    "#we take input form the user\n",
    "words = input(\"Enter the for check pailndrome or not:- \")\n",
    "#after take input we convert into lowercase.\n",
    "box=words.lower()\n",
    "#We check if the string is a palindrome by reversing it and comparing it to the original string.\n",
    "if box == box[::-1]:\n",
    "    print(\"Your entered word-->\",words,\" is plaindrome!\")\n",
    "else:\n",
    "    print(\"your enterd word-->\",words,\"is not palindrome!\")"
   ]
  },
  {
   "cell_type": "code",
   "execution_count": 3,
   "metadata": {},
   "outputs": [
    {
     "name": "stdout",
     "output_type": "stream",
     "text": [
      "HYPER\n"
     ]
    }
   ],
   "source": [
    "#Q3. Convert a string to uppercase.\n",
    "print(word.upper())"
   ]
  },
  {
   "cell_type": "code",
   "execution_count": 4,
   "metadata": {},
   "outputs": [
    {
     "name": "stdout",
     "output_type": "stream",
     "text": [
      "hyper\n"
     ]
    }
   ],
   "source": [
    "#Q4. Covert a string to lowercse.\n",
    "print(word.lower())"
   ]
  },
  {
   "cell_type": "code",
   "execution_count": 5,
   "metadata": {},
   "outputs": [
    {
     "name": "stdout",
     "output_type": "stream",
     "text": [
      "Number of vowel in entered string[  ] is :-  0\n"
     ]
    }
   ],
   "source": [
    "#Q5. Count the number of vowels in a string.\n",
    "\n",
    "#we take input(string) form user\n",
    "word=str(input(\"Enter the string word for checking number of vowel:-\"))\n",
    "#after take input form user then we convert into lowercase\n",
    "box=word.lower()\n",
    "#we take one variable for vowelCount.\n",
    "vowelCount=0;\n",
    "#we acessing character for string \n",
    "for char in box:\n",
    "    # if character match a vowel, increment the vowel count variable.\n",
    "    if char in \"aeiou\":\n",
    "        vowelCount +=1;\n",
    "#print the number of vowel in the entered string.\n",
    "print(\"Number of vowel in entered string[\",word,\"] is :- \",vowelCount)\n"
   ]
  },
  {
   "cell_type": "code",
   "execution_count": 13,
   "metadata": {},
   "outputs": [
    {
     "name": "stdout",
     "output_type": "stream",
     "text": [
      "In your entered word erdtfgyhujkl,number of constant is :- 10\n"
     ]
    }
   ],
   "source": [
    "#Q6. Count the number of consonants in a string.\n",
    "\n",
    "#we take input as a string form user\n",
    "word=input(\"Enter the string value:- \");\n",
    "#we convert user input into lower case.\n",
    "box=word.lower();\n",
    "#we take  variable for constantcount.\n",
    "constantCount=0; \n",
    "#we access the string index value thrugh slicing.\n",
    "for char in box:\n",
    "     #if character match a constant value,increment the constatntCount variable. \n",
    "     if char in \"qwrtypsdfghjklzxcvbnm\":\n",
    "          constantCount += 1;\n",
    "#print the number of constant count in entered in string.\n",
    "print(f\"In your entered word {word},number of constant is :- {constantCount}\")\n"
   ]
  },
  {
   "cell_type": "code",
   "execution_count": 16,
   "metadata": {},
   "outputs": [
    {
     "name": "stdout",
     "output_type": "stream",
     "text": [
      "tyub ikm kjn           l\n"
     ]
    }
   ],
   "source": [
    "#Q7. Remove all whitespaces from a string.\n",
    "\n",
    "#we take input as  sentence form the user.\n",
    "sentence=str(input(\"enter the any sentence:-\"));\n",
    "#we remove all white space form the sentence.\n",
    "no_whitespace=sentence.strip()\n",
    "#after removing all white space print the sentence.\n",
    "print(no_whitespace)"
   ]
  },
  {
   "cell_type": "code",
   "execution_count": 20,
   "metadata": {},
   "outputs": [
    {
     "name": "stdout",
     "output_type": "stream",
     "text": [
      "length of entered string[samsung] is :- 7 \n"
     ]
    }
   ],
   "source": [
    "#Q8. Find the length of a string without using the `len()` function.\n",
    "\n",
    "#we take input form the user.\n",
    "word=input(\"enter the string value for find his length:-\")\n",
    "#we find length of entered string using length functions. \n",
    "len_of_word=len(word)\n",
    "#print length of entered string.\n",
    "print(f\"length of entered string[{word}] is :- {len_of_word} \")\n"
   ]
  },
  {
   "cell_type": "code",
   "execution_count": 23,
   "metadata": {},
   "outputs": [
    {
     "name": "stdout",
     "output_type": "stream",
     "text": [
      "this string not contain you entered specific word toy\n"
     ]
    }
   ],
   "source": [
    "#Q9. Check if a string contains a specific word.\n",
    "\n",
    "#we take input as string  form the user \n",
    "input_string=input(\"Enter the string:-  \");\n",
    "#we take specific word form user form find to input string.\n",
    "specific_word=input(\"Enter the specific word to check for:-\");\n",
    "#check the specific keyword are persent in the string or not using in key word.\n",
    "if specific_word in input_string:\n",
    "    #if specific word are persent in the string print the message.\n",
    "    print(f\"This string contain this specific word:- {specific_word}\")\n",
    "else:\n",
    "    #if word are not persent in the string then print the  this message.\n",
    "    print(f\"this string not contain you entered specific word:- {specific_word}\")\n"
   ]
  },
  {
   "cell_type": "code",
   "execution_count": 25,
   "metadata": {},
   "outputs": [
    {
     "name": "stdout",
     "output_type": "stream",
     "text": [
      "shivam love  is nature\n"
     ]
    }
   ],
   "source": [
    "#Q10. Replace a word in a string with another word.\n",
    "\n",
    "#step 1:- we take input as a string form user.\n",
    "word=input(\"Enter the string:- \");\n",
    "#step 2:-  we take both value(replaced word,replacing word) form user for replace\n",
    "old_word=input(\"Entered the word to be replaced:- \");\n",
    "new_word=input(\"entered the replacing word:- \");\n",
    "#step 3:- we  replace the string one word two othes word. \n",
    "replace_string=word.replace(old_word,new_word);\n",
    "#step 4:- after replacing the string word we print the string.\n",
    "print(replace_string)"
   ]
  },
  {
   "cell_type": "code",
   "execution_count": 5,
   "metadata": {},
   "outputs": [
    {
     "name": "stdout",
     "output_type": "stream",
     "text": [
      "The word 'nature' appers in 2 times in the input string.\n"
     ]
    }
   ],
   "source": [
    "#Q11. Count the occurrences of a word in a string.\n",
    "\n",
    "def word_count_occurrences(input_string,target_word):\n",
    "    #step 1:-  Initialize a variable to keep track word count.\n",
    "    word_count=0;\n",
    "    #step 2:-  split a input string into a list of words.\n",
    "    words= input_string.split()\n",
    "    #step 3:- slicing words in the  input string using in key word.\n",
    "    for word in words:\n",
    "        #step 4:- if current word are match to the target word.\n",
    "        if word == target_word:\n",
    "            #step 5:- then word are match then incresse 1 word count value\n",
    "            word_count += 1;\n",
    "    \n",
    "    #step 6:-  return the word count value\n",
    "    return word_count \n",
    "\n",
    "\n",
    "\n",
    "#step 7:- we take one string\n",
    "input_string=\"shivam is love by nature , nature , sanskriti\"\n",
    "#step 8:- we take word form user for find his occurrences.\n",
    "target_word=input(\"Enter the word:- \");\n",
    "# step 9:- Assign function to variable & call the function or print result.\n",
    "result=word_count_occurrences(input_string,target_word);\n",
    "print(f\"The word '{target_word}' appers in {result} times in the input string.\")\n"
   ]
  },
  {
   "cell_type": "code",
   "execution_count": 10,
   "metadata": {},
   "outputs": [
    {
     "name": "stdout",
     "output_type": "stream",
     "text": [
      "index of first occurrense:-  33\n"
     ]
    }
   ],
   "source": [
    "#Q12. Find the first occurrence of a word in a string.\n",
    "\n",
    "#step 1:- create a funtion for find first occurrence word.\n",
    "def first_occurrence(text,word):\n",
    "     #step 2:- we find the first index of occurrence of word in text the using find methood.  \n",
    "     index =  text.find(word)\n",
    "     #step 3:- if  index are  -1 return None(-1 means value are not pesrsent.)\n",
    "     if index == -1:\n",
    "          return None\n",
    "     #step 5:- return the index of the first occurrence of word.\n",
    "     return index\n",
    "     \n",
    "          \n",
    "\n",
    "#step 6:- we take string value in the text variable. \n",
    "text =\"we easily explain all topic with example . the term example ease to undestant\"\n",
    "#step 7:- take a word for find fist occurrence.\n",
    "word=\"example\"\n",
    "#step 8:- Call the function & print result.\n",
    "result=first_occurrence(text,word)\n",
    "print(f\"index of first occurrense:- \",result)\n"
   ]
  },
  {
   "cell_type": "code",
   "execution_count": 9,
   "metadata": {},
   "outputs": [
    {
     "name": "stdout",
     "output_type": "stream",
     "text": [
      "index of last occurrense:- 62\n"
     ]
    }
   ],
   "source": [
    "#Q13. Find the last occurrence of a word in a string.\n",
    "\n",
    "def last_occurrence(text,word):\n",
    "    #we find index of  last occurrence of the word in the text.\n",
    "    index=text.rfind(word)\n",
    "    #if index value is equal to -1 then return None.\n",
    "    if index == -1:\n",
    "        return None\n",
    "    \n",
    "    #return the index value.\n",
    "    return index\n",
    "\n",
    "\n",
    "#we take a string value \n",
    "text=\"I am not champion , It is team moment not my moment so we are champion \"\n",
    "word=\"champion\"\n",
    "result=last_occurrence(text,word)\n",
    "print(f\"index of last occurrense:- {result}\")"
   ]
  },
  {
   "cell_type": "code",
   "execution_count": 13,
   "metadata": {},
   "outputs": [
    {
     "name": "stdout",
     "output_type": "stream",
     "text": [
      "['I', 'am', 'not', 'champion', ',', 'It', 'is', 'team', 'moment', 'not', 'my', 'moment', 'so', 'we', 'are', 'champion']\n"
     ]
    }
   ],
   "source": [
    "#Q14. Split a string into a list of words.\n",
    "#take input string.\n",
    "input_string = \"I am not champion , It is team moment not my moment so we are champion\"\n",
    "#we split a string .\n",
    "b=list(input_string.split())\n",
    "#print the list\n",
    "print(b)"
   ]
  },
  {
   "cell_type": "code",
   "execution_count": 17,
   "metadata": {},
   "outputs": [
    {
     "name": "stdout",
     "output_type": "stream",
     "text": [
      "Joined string:- shivam is most focus and dedicated person\n"
     ]
    }
   ],
   "source": [
    "#Q15. Join a list of words into a string.\n",
    "\n",
    "#step 1:- we define function for list to string conversion.\n",
    "def list_to_string(words):\n",
    "    #step 2:- we take variable  and join list word into string.\n",
    "    joined_string=' '.join(words)\n",
    "    #step 3:- return the joined string variable.\n",
    "    return joined_string\n",
    "\n",
    "\n",
    "#step 4:- we take l1 list\n",
    "l1=[\"shivam\",\"is\", \"most\", \"focus\", \"and\" ,\"dedicated\" ,\"person\"]\n",
    "#step 5:- we call the function & print the result.\n",
    "result=list_to_string(l1)\n",
    "print(f\"Joined string:- {result}\")\n"
   ]
  },
  {
   "cell_type": "code",
   "execution_count": null,
   "metadata": {},
   "outputs": [],
   "source": []
  }
 ],
 "metadata": {
  "kernelspec": {
   "display_name": "Python 3",
   "language": "python",
   "name": "python3"
  },
  "language_info": {
   "codemirror_mode": {
    "name": "ipython",
    "version": 3
   },
   "file_extension": ".py",
   "mimetype": "text/x-python",
   "name": "python",
   "nbconvert_exporter": "python",
   "pygments_lexer": "ipython3",
   "version": "3.12.3"
  }
 },
 "nbformat": 4,
 "nbformat_minor": 2
}
