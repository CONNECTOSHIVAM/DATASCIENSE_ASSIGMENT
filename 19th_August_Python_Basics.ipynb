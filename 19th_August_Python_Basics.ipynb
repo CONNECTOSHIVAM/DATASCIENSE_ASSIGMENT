{
 "cells": [
  {
   "cell_type": "markdown",
   "metadata": {},
   "source": [
    "TOPIC: Python Basics Variable"
   ]
  },
  {
   "cell_type": "code",
   "execution_count": 1,
   "metadata": {},
   "outputs": [
    {
     "name": "stdout",
     "output_type": "stream",
     "text": [
      "before swapping value of a & b:-  9 7\n",
      "after swapping value of a & b:-  7 9\n"
     ]
    }
   ],
   "source": [
    "#Q1. Declare two variables, `x` and `y`, and assign them integer values. Swap the\n",
    "#values of these variables without using any temporary variable.\n",
    "\n",
    "#Methood - 1\n",
    "#we take variable with initialization value\n",
    "a,b=9,7\n",
    "#print the value before swapping\n",
    "print(\"before swapping value of a & b:- \",a,b)\n",
    "#swapping the variable \n",
    "a,b=b,a\n",
    "#print the value after swapping\n",
    "print(\"after swapping value of a & b:- \",a,b)"
   ]
  },
  {
   "cell_type": "code",
   "execution_count": 2,
   "metadata": {},
   "outputs": [
    {
     "name": "stdout",
     "output_type": "stream",
     "text": [
      "Before swaping value of a:-  98\n",
      "Before swaping value of b:-  99\n",
      "After swaping value of a:-  99\n",
      "After swaping value of b:-  98\n"
     ]
    }
   ],
   "source": [
    "#Methood - 2\n",
    "#we take variable with initialize value\n",
    "a=98\n",
    "b=99\n",
    "#print the value before swapping\n",
    "print(\"Before swaping value of a:- \",a);\n",
    "print(\"Before swaping value of b:- \",b);\n",
    "#logic for swap the value \n",
    "a=a+b;\n",
    "b=a-b;\n",
    "a=a-b;\n",
    "#print the value after swapping\n",
    "print(\"After swaping value of a:- \",a);\n",
    "print(\"After swaping value of b:- \",b);\n",
    "\n"
   ]
  },
  {
   "cell_type": "code",
   "execution_count": 3,
   "metadata": {},
   "outputs": [
    {
     "name": "stdout",
     "output_type": "stream",
     "text": [
      "area of rectangle:-  63.0\n"
     ]
    }
   ],
   "source": [
    "#Q2. Create a program that calculates the area of a rectangle. Take the length and\n",
    "#width as inputs from the user and store them in variables. Calculate and\n",
    "#display the area.\n",
    "\n",
    "#we take input(length & width) for user\n",
    "length =  float(input(\"Enter the length of rectangle :- \"));\n",
    "width = float(input(\"Enter the width of rectangle:- \"));\n",
    "#calculate the area of rectangle \n",
    "area = length * width\n",
    "#print the area of rectangle\n",
    "print(\"area of rectangle:- \",area);\n",
    "\n"
   ]
  },
  {
   "cell_type": "code",
   "execution_count": 4,
   "metadata": {},
   "outputs": [
    {
     "name": "stdout",
     "output_type": "stream",
     "text": [
      "Temprature in fahrenheit:-  208.4\n"
     ]
    }
   ],
   "source": [
    "#Q3. Write a Python program that converts temperatures from Celsius to\n",
    "#Fahrenheit. Take the temperature in Celsius as input, store it in a variable,\n",
    "#convert it to Fahrenheit, and display the result.\n",
    "\n",
    "#we take input(in celsius) form user\n",
    "celsius = float(input(\"Enter the temprature in celsius:- \"));\n",
    "#covert the celsius to fahrenheit \n",
    "fahrenheit = (9/5*celsius)+32;\n",
    "#print the temprature into fahrenheit\n",
    "print(\"Temprature in fahrenheit:- \",fahrenheit);\n"
   ]
  },
  {
   "cell_type": "markdown",
   "metadata": {},
   "source": [
    "TOPIC: String Based Questions"
   ]
  },
  {
   "cell_type": "code",
   "execution_count": 11,
   "metadata": {},
   "outputs": [
    {
     "name": "stdout",
     "output_type": "stream",
     "text": [
      "length of enter string :- 8\n"
     ]
    }
   ],
   "source": [
    "#Q1. Write a Python program that takes a string as input and prints the length of\n",
    "#the string.\n",
    "\n",
    "#take input(in string) form the user \n",
    "word = str(input(\"Enter the input String value:- \"))\n",
    "#print the length of string\n",
    "print(\"length of enter string :-\",len(word));\n"
   ]
  },
  {
   "cell_type": "code",
   "execution_count": 12,
   "metadata": {},
   "outputs": [
    {
     "name": "stdout",
     "output_type": "stream",
     "text": [
      "Number of vowel in the Entered sentense:-  5\n"
     ]
    }
   ],
   "source": [
    "#Q2. Create a program that takes a sentence from the user and counts the number\n",
    "#of vowels (a, e, i, o, u) in the string.\n",
    "\n",
    "#we take input form the user\n",
    "sentense = str(input(\"Enter the sentence for check number of vowel character:- \"));\n",
    "#we convert the sentence character into lower case\n",
    "lowercase = sentense.lower();\n",
    "#we define vowel count variable\n",
    "vowelcount=0;\n",
    "#we write logic for count number of vowel in sentense\n",
    "for char in sentense:\n",
    "    if char in \"aeiou\":\n",
    "        vowelcount +=1;\n",
    "\n",
    "print(\"Number of vowel in the Entered sentense:- \",vowelcount);\n",
    "\n",
    "\n"
   ]
  },
  {
   "cell_type": "code",
   "execution_count": 13,
   "metadata": {},
   "outputs": [
    {
     "data": {
      "text/plain": [
       "'apple is fruit'"
      ]
     },
     "execution_count": 13,
     "metadata": {},
     "output_type": "execute_result"
    }
   ],
   "source": [
    "sentense"
   ]
  },
  {
   "cell_type": "code",
   "execution_count": 19,
   "metadata": {},
   "outputs": [
    {
     "name": "stdout",
     "output_type": "stream",
     "text": [
      "sllikswp\n"
     ]
    }
   ],
   "source": [
    " #Q3. Given a string(in questin 1), reverse the order of characters using string slicing and print\n",
    "# the reversed string.\n",
    "print(word[::-1])"
   ]
  },
  {
   "cell_type": "code",
   "execution_count": 25,
   "metadata": {},
   "outputs": [
    {
     "name": "stdout",
     "output_type": "stream",
     "text": [
      "Your entered word   mom     is plaindrome\n"
     ]
    }
   ],
   "source": [
    "#Q4.Write a program that takes a string as input and checks if it is a palindrome\n",
    "#(reads the same forwards and backwards).\n",
    "\n",
    "#we take input(string)  form user\n",
    "words = str(input(\"Enter the word for check plaindrome:- \"));\n",
    "\n",
    "#we convert the string into lower case with remove space\n",
    "rightWord = words.replace(\" \",\"\").lower()\n",
    "#logic for check the plaindrome word or not \n",
    "if rightWord  == rightWord[::-1]:\n",
    "    print(\"Your entered word \",words,\" is plaindrome\");\n",
    "else:\n",
    "    print(\"Your entered word \",words,\"is not plaindrome!\")\n"
   ]
  },
  {
   "cell_type": "code",
   "execution_count": 28,
   "metadata": {},
   "outputs": [
    {
     "name": "stdout",
     "output_type": "stream",
     "text": [
      "your entered string word before removing space:-  shivam  kumar\n",
      "your entered string word After removing space:-  shivamkumar\n"
     ]
    }
   ],
   "source": [
    "#Q5. Create a program that takes a string as input and removes all the spaces from\n",
    "#it. Print the modified string without spaces.\n",
    "\n",
    "#we take input(string) form the user\n",
    "iword= str(input(\"Enter the input as string words :- \"));\n",
    "print(\"your entered string word before removing space:- \",iword);\n",
    "wReplace = iword.replace(\" \",\"\");\n",
    "print(\"your entered string word After removing space:- \",wReplace);"
   ]
  },
  {
   "cell_type": "code",
   "execution_count": null,
   "metadata": {},
   "outputs": [],
   "source": []
  }
 ],
 "metadata": {
  "kernelspec": {
   "display_name": "Python 3",
   "language": "python",
   "name": "python3"
  },
  "language_info": {
   "codemirror_mode": {
    "name": "ipython",
    "version": 3
   },
   "file_extension": ".py",
   "mimetype": "text/x-python",
   "name": "python",
   "nbconvert_exporter": "python",
   "pygments_lexer": "ipython3",
   "version": "3.12.3"
  }
 },
 "nbformat": 4,
 "nbformat_minor": 2
}
